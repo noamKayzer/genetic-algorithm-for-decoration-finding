{
  "nbformat": 4,
  "nbformat_minor": 0,
  "metadata": {
    "colab": {
      "name": "Gentic algorithm project",
      "provenance": [],
      "collapsed_sections": [],
      "include_colab_link": true
    },
    "kernelspec": {
      "name": "python3",
      "display_name": "Python 3"
    }
  },
  "cells": [
    {
      "cell_type": "markdown",
      "metadata": {
        "id": "view-in-github",
        "colab_type": "text"
      },
      "source": [
        "<a href=\"https://colab.research.google.com/github/noamKayzer/genetic-algorithm-for-decoration-finding/blob/main/Gentic_algorithm_project.ipynb\" target=\"_parent\"><img src=\"https://colab.research.google.com/assets/colab-badge.svg\" alt=\"Open In Colab\"/></a>"
      ]
    },
    {
      "cell_type": "markdown",
      "metadata": {
        "id": "gCrtRLlecjdR"
      },
      "source": [
        "# Decoration finding by genetic algorithm"
      ]
    },
    {
      "cell_type": "markdown",
      "metadata": {
        "id": "ZXUXRP5dfJGK"
      },
      "source": [
        "![עיטור מלחמה לדוגמא.jpg](data:image/jpeg;base64,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)"
      ]
    },
    {
      "cell_type": "markdown",
      "metadata": {
        "id": "5QM3iL-TctNQ"
      },
      "source": [
        "The following code uses GA architecture to find good patterns of war decorations. \n",
        "\n",
        "War decoration is defined as a list of N colors with some diversity of the colors (e.g. not all decoration is in 1 color) and symmetry (i.e. the left side is a mirroring of the right side).\n",
        "\n",
        "An example of a convergence of the algorithm is plotted below. The example includes the best decoration of each generation and the overall learning curve (Fitness Vs. generation).\n",
        "\n",
        "The length of the decoration (*decoColorsNum*), the number of generation/iterations (*generationSize*), the size of the population (*populationSize*) and the size of the available colors (*totalColorNum*) can be determined by the user.\n",
        "\n",
        "Technical note: the colors file (‘colors_map.xlsx’) should be in the folder of the script. It is recommended to open the file in collab and upload the colors file to the working directory.\n"
      ]
    },
    {
      "cell_type": "code",
      "metadata": {
        "id": "CJOaRyxnNR4E",
        "colab": {
          "base_uri": "https://localhost:8080/",
          "height": 1000
        },
        "outputId": "72b5a6de-fcbf-4949-cdc7-12f3edf1667d"
      },
      "source": [
        "import matplotlib.pyplot as plt\n",
        "import numpy as np\n",
        "import pandas as pd\n",
        "import random\n",
        "import copy\n",
        "\n",
        "#changeable parametrs\n",
        "totalColorNum = 49 # The total number of colors. Maximum number is 49. \n",
        "decoColorsNum = 19 # The size of the decoration.  \n",
        "populationSize = 100 \n",
        "generationSize = 500 \n",
        "breakOn100 = True \n",
        "# break the creation of new generation after getting a 100% fitness. on false, the script will continue to the end of the defined maximum generation (generationSize).\n",
        "\n",
        "\n",
        "df = pd.read_excel(io=\"colors_map.xlsx\")\n",
        "coMap=np.zeros([totalColorNum,3])\n",
        "\n",
        "for i in range(totalColorNum):              \n",
        "            coMap[(i)][:]=df[(i+1)][7].split(\"\\n\")\n",
        "\n",
        "def visual(line):\n",
        "  plt.imshow([line])#,interpolation='nearest')\n",
        "  plt.axis('off')\n",
        "  plt.show()\n",
        "\n",
        "def co(colorNum):\n",
        "  #color that represent colors we will use, from 1-49  \n",
        "  if isinstance(colorNum,np.ndarray): #for list of values, the function will use recursion call \n",
        "    output=np.ones([len(colorNum),3])*(-1)\n",
        "    for i in range(len(colorNum)):\n",
        "      output[i]=co(colorNum[i])\n",
        "    return output\n",
        "  else:\n",
        "    colorNum-=1\n",
        "    assert (isinstance(colorNum,np.int32) or isinstance(colorNum,int) or isinstance(colorNum,np.int_)) and colorNum<totalColorNum and colorNum>=0,['incorrect color Number(remembar that the values are between 1-49)',colorNum]\n",
        "    return ([coMap[colorNum][0]/255,coMap[colorNum][1]/255,coMap[colorNum][2]/255])\n",
        "\n",
        "class decoration:\n",
        "  def __init__(self, createNull=False):\n",
        "    self.deco=np.zeros(decoColorsNum,dtype=int)\n",
        "    self.fit=-1\n",
        "    if not createNull:\n",
        "        for i in range(decoColorsNum):\n",
        "            self.deco[i]=random.randrange(1,totalColorNum,1)\n",
        "\n",
        "  def __repr__(self):\n",
        "      self.visual()\n",
        "      return str(self.fit)\n",
        "  \n",
        "  def visual(self):\n",
        "      plt.imshow([co(self.deco)])\n",
        "      plt.axis('off')\n",
        "      plt.show()\n",
        "  def outOfRange(self, colorNum):\n",
        "      if colorNum > totalColorNum:\n",
        "              colorNum = colorNum-totalColorNum\n",
        "              return self.outOfRange(colorNum)\n",
        "      elif colorNum < 1:\n",
        "              colorNum = totalColorNum + colorNum\n",
        "              return self.outOfRange(colorNum)\n",
        "      else:\n",
        "        return colorNum\n",
        "  def mutation(self):\n",
        "    mutPlace = int(random.randint(0,decoColorsNum-1))\n",
        "    sizeOfMut = totalColorNum/8 #STD size of the mutant\n",
        "    chancesOfMutation = 0.3\n",
        "    if random.random() < chancesOfMutation:\n",
        "      self.deco[mutPlace] += int(random.gauss(0,1)*sizeOfMut) \n",
        "       # Create a mutation in a distance derived from a normal distribution. Note that the mutation could be positive or negative.\n",
        "       # In cases the mutation is out of range, it will begin from the beginning. \n",
        "       # i.e. the colors spectrum built as a round shape, the first and the last color are connected. \n",
        "       # e.g a case of an algorithm with 49 colors set and a mutation of a place with the 45th color.\n",
        "       # If the mutation is in size of +10, a color number of 55 does not exist,\n",
        "       # therefore we will select the 6th color (4 steps from 45 to 49 and 6 steps from 0 to 6). \n",
        "      self.deco[mutPlace] = self.outOfRange(self.deco[mutPlace])\n",
        "  \n",
        "          \n",
        "  def fitness(self):\n",
        "    diffrencessRatesList=[]\n",
        "    ran = decoColorsNum//2\n",
        "    for i in range(ran):\n",
        "        diffrencessRatesList.append(self.diff(self.deco[i], self.deco[decoColorsNum-1-i]))\n",
        "        \n",
        "    #symetryRate = np.mean([self.diff(self.deco[0], self.deco[8]),self.diff(self.deco[1], self.deco[7]),self.diff(self.deco[2], self.deco[6]),self.diff(self.deco[3], self.deco[5])])   \n",
        "    symetryRate = np.mean(diffrencessRatesList)\n",
        "    \n",
        "    oddColorsRate = 1\n",
        "    colorsDiversityRate = 1\n",
        "    allowedColors = 5 \n",
        "    sameColorWindowAllowed = int(max(np.ceil(decoColorsNum/5),3))\n",
        "    weight = 0.5/(decoColorsNum/10)\n",
        "\n",
        "    for i in range(decoColorsNum+1-sameColorWindowAllowed):\n",
        "      if len(set(self.deco[i:i+sameColorWindowAllowed])) == 1:\n",
        "        oddColorsRate -= weight\n",
        "        \n",
        "    totalColorsInDeco = len(set(self.deco))\n",
        "    colorsDiversityRate -= (totalColorsInDeco > allowedColors)*(totalColorsInDeco-allowedColors)*weight # if there is more than the allowed Colors, the fit will decrease\n",
        "    self.fit = np.sum([0.25*symetryRate, 0.25*oddColorsRate, 0.5*colorsDiversityRate])\n",
        "    return self.fit    \n",
        "\n",
        "  def diff(self,color1,color2):\n",
        "      firstColor = co(color1)\n",
        "      secondColor = co(color2)\n",
        "      sumAbsDiffernces = sum([abs(firstColor[0]-secondColor[0]),abs(firstColor[1]-secondColor[1]),abs(firstColor[2]-secondColor[2])])\n",
        "      return (1-sumAbsDiffernces/3) #return the percentage of similarity, between 0 and 1\n",
        "        \n",
        "    \n",
        "class GA():\n",
        "\n",
        "    def __init__(self):\n",
        "        self.population = []\n",
        "        self.fitnessList=[]\n",
        "        for curDecoration in range(populationSize):\n",
        "            self.population.append(decoration())          \n",
        "            self.fitnessList.append(self.population[curDecoration].fitness())\n",
        "            \n",
        "    def crossover(self):\n",
        "        orderOfFitsValues=np.flip(np.argsort(self.fitnessList)) #indicis of the fits values, order by size. \n",
        "        offspring=decoration(True) \n",
        "        offspring.deco=np.ones(decoColorsNum,dtype=int)*-1\n",
        "        for i in range(2):\n",
        "            parantRandPlace = -100\n",
        "            while (parantRandPlace >= len(orderOfFitsValues) or parantRandPlace == -100): #generate a random parant, based on normal distribution of the fitness values. while the random number obtained was higher than the last actual parant, another random will occour\n",
        "                parantRandPlace = round(abs(int(random.gauss(0,len(orderOfFitsValues)/4))))\n",
        "            parantPlace = orderOfFitsValues[parantRandPlace]  #replace the z-score based on the normal distributed to real place\n",
        "            curParant = self.population[parantPlace]\n",
        "            botColorsPlaces = int((i)*np.floor(decoColorsNum/2)+i)\n",
        "            upColorsPlaces = int((i+1)*np.floor(decoColorsNum/2))+1\n",
        "            curParant.mutation()\n",
        "            if random.random() < 0.25:\n",
        "              curParant.mutation()\n",
        "            offspring.deco[botColorsPlaces:upColorsPlaces] = np.int_(copy.deepcopy(curParant.deco[botColorsPlaces:upColorsPlaces]))\n",
        "        offspring.fitness()\n",
        "        return offspring \n",
        "           \n",
        "    def newGeneration(self):\n",
        "      \n",
        "        newPopulation=[]\n",
        "        newFitnessList=[]\n",
        "        for i in range(populationSize):\n",
        "            currOffspring=self.crossover()\n",
        "            newPopulation.append(currOffspring)\n",
        "            newFitnessList.append(currOffspring.fit)\n",
        "        self.population = copy.deepcopy(newPopulation)\n",
        "        self.fitnessList = copy.deepcopy(newFitnessList)\n",
        "        highestFitness = np.argmax(self.fitnessList)\n",
        "        highestFit = self.population[highestFitness].fit*100\n",
        "        listOfHighestDeco.append(highestFit)\n",
        "        \n",
        "    def printGenerationData(self):\n",
        "        meanFit = round(np.mean(self.fitnessList)*100,2)\n",
        "        highestFitness = np.argmax(self.fitnessList)\n",
        "        highestFit = self.population[highestFitness].fit*100\n",
        "        if meanFit<0:\n",
        "            meanFit=0\n",
        "        if highestFit<0:\n",
        "            highestFit=0\n",
        "        print(['Highest Generation value is:'+str(round(highestFit,2))+'%. mean Generation is '+str(meanFit)+'%. best exemple:'])\n",
        "        self.population[highestFitness].visual()\n",
        "        \n",
        "\n",
        "listOfHighestDeco=[] #for ploting the progress \n",
        "a=GA()\n",
        "a.printGenerationData()\n",
        "for k in range(generationSize):\n",
        "    \n",
        "    a.newGeneration()\n",
        "    a.printGenerationData()\n",
        "    if breakOn100 and a.population[np.argmax(a.fitnessList)].fit*100 > 99.95:\n",
        "        break\n",
        "a.printGenerationData()\n",
        "plt.plot(listOfHighestDeco)\n",
        "plt.title('best decoration fit rate change, over genaration')\n",
        "plt.xlabel('Generation Number')\n",
        "plt.ylabel('Fitness percent')\n",
        "plt.show();"
      ],
      "execution_count": 5,
      "outputs": [
        {
          "output_type": "stream",
          "name": "stdout",
          "text": [
            "['Highest Generation value is:0%. mean Generation is 0%. best exemple:']\n"
          ]
        },
        {
          "output_type": "display_data",
          "data": {
            "text/plain": [
              "<Figure size 432x288 with 1 Axes>"
            ],
            "image/png": "[encoded data removed]"
          },
          "metadata": {
            "needs_background": "light"
          }
        },
        {
          "output_type": "stream",
          "name": "stdout",
          "text": [
            "['Highest Generation value is:0%. mean Generation is 0%. best exemple:']\n"
          ]
        },
        {
          "output_type": "display_data",
          "data": {
            "text/plain": [
              "<Figure size 432x288 with 1 Axes>"
            ],
            "image/png": "[encoded data removed]"
          },
          "metadata": {
            "needs_background": "light"
          }
        },
        {
          "output_type": "stream",
          "name": "stdout",
          "text": [
            "['Highest Generation value is:0.6%. mean Generation is 0%. best exemple:']\n"
          ]
        },
        {
          "output_type": "display_data",
          "data": {
            "text/plain": [
              "<Figure size 432x288 with 1 Axes>"
            ],
            "image/png": "[encoded data removed]"
          },
          "metadata": {
            "needs_background": "light"
          }
        },
        {
          "output_type": "stream",
          "name": "stdout",
          "text": [
            "['Highest Generation value is:0.6%. mean Generation is 0%. best exemple:']\n"
          ]
        },
        {
          "output_type": "display_data",
          "data": {
            "text/plain": [
              "<Figure size 432x288 with 1 Axes>"
            ],
            "image/png": "[encoded data removed]"
          },
          "metadata": {
            "needs_background": "light"
          }
        },
        {
          "output_type": "stream",
          "name": "stdout",
          "text": [
            "['Highest Generation value is:10.4%. mean Generation is 0%. best exemple:']\n"
          ]
        },
        {
          "output_type": "display_data",
          "data": {
            "text/plain": [
              "<Figure size 432x288 with 1 Axes>"
            ],
            "image/png": "[encoded data removed]"
          },
          "metadata": {
            "needs_background": "light"
          }
        },
        {
          "output_type": "stream",
          "name": "stdout",
          "text": [
            "['Highest Generation value is:14.37%. mean Generation is 0%. best exemple:']\n"
          ]
        },
        {
          "output_type": "display_data",
          "data": {
            "text/plain": [
              "<Figure size 432x288 with 1 Axes>"
            ],
            "image/png": "[encoded data removed]"
          },
          "metadata": {
            "needs_background": "light"
          }
        },
        {
          "output_type": "stream",
          "name": "stdout",
          "text": [
            "['Highest Generation value is:19.22%. mean Generation is 0%. best exemple:']\n"
          ]
        },
        {
          "output_type": "display_data",
          "data": {
            "text/plain": [
              "<Figure size 432x288 with 1 Axes>"
            ],
            "image/png": "[encoded data removed]"
          },
          "metadata": {
            "needs_background": "light"
          }
        },
        {
          "output_type": "stream",
          "name": "stdout",
          "text": [
            "['Highest Generation value is:20.74%. mean Generation is 0%. best exemple:']\n"
          ]
        },
        {
          "output_type": "display_data",
          "data": {
            "text/plain": [
              "<Figure size 432x288 with 1 Axes>"
            ],
            "image/png": "[encoded data removed]"
          },
          "metadata": {
            "needs_background": "light"
          }
        },
        {
          "output_type": "stream",
          "name": "stdout",
          "text": [
            "['Highest Generation value is:22.37%. mean Generation is 0%. best exemple:']\n"
          ]
        },
        {
          "output_type": "display_data",
          "data": {
            "text/plain": [
              "<Figure size 432x288 with 1 Axes>"
            ],
            "image/png": "[encoded data removed]"
          },
          "metadata": {
            "needs_background": "light"
          }
        },
        {
          "output_type": "stream",
          "name": "stdout",
          "text": [
            "['Highest Generation value is:21.65%. mean Generation is 0%. best exemple:']\n"
          ]
        },
        {
          "output_type": "display_data",
          "data": {
            "text/plain": [
              "<Figure size 432x288 with 1 Axes>"
            ],
            "image/png": "[encoded data removed]"
          },
          "metadata": {
            "needs_background": "light"
          }
        },
        {
          "output_type": "stream",
          "name": "stdout",
          "text": [
            "['Highest Generation value is:26.72%. mean Generation is 2.36%. best exemple:']\n"
          ]
        },
        {
          "output_type": "display_data",
          "data": {
            "text/plain": [
              "<Figure size 432x288 with 1 Axes>"
            ],
            "image/png": "[encoded data removed]"
          },
          "metadata": {
            "needs_background": "light"
          }
        },
        {
          "output_type": "stream",
          "name": "stdout",
          "text": [
            "['Highest Generation value is:28.95%. mean Generation is 3.83%. best exemple:']\n"
          ]
        },
        {
          "output_type": "display_data",
          "data": {
            "text/plain": [
              "<Figure size 432x288 with 1 Axes>"
            ],
            "image/png": "[encoded data removed]"
          },
          "metadata": {
            "needs_background": "light"
          }
        },
        {
          "output_type": "stream",
          "name": "stdout",
          "text": [
            "['Highest Generation value is:42.51%. mean Generation is 6.76%. best exemple:']\n"
          ]
        },
        {
          "output_type": "display_data",
          "data": {
            "text/plain": [
              "<Figure size 432x288 with 1 Axes>"
            ],
            "image/png": "[encoded data removed]"
          },
          "metadata": {
            "needs_background": "light"
          }
        },
        {
          "output_type": "stream",
          "name": "stdout",
          "text": [
            "['Highest Generation value is:42.11%. mean Generation is 7.34%. best exemple:']\n"
          ]
        },
        {
          "output_type": "display_data",
          "data": {
            "text/plain": [
              "<Figure size 432x288 with 1 Axes>"
            ],
            "image/png": "[encoded data removed]"
          },
          "metadata": {
            "needs_background": "light"
          }
        },
        {
          "output_type": "stream",
          "name": "stdout",
          "text": [
            "['Highest Generation value is:34.39%. mean Generation is 9.03%. best exemple:']\n"
          ]
        },
        {
          "output_type": "display_data",
          "data": {
            "text/plain": [
              "<Figure size 432x288 with 1 Axes>"
            ],
            "image/png": "[encoded data removed]"
          },
          "metadata": {
            "needs_background": "light"
          }
        },
        {
          "output_type": "stream",
          "name": "stdout",
          "text": [
            "['Highest Generation value is:35.52%. mean Generation is 8.0%. best exemple:']\n"
          ]
        },
        {
          "output_type": "display_data",
          "data": {
            "text/plain": [
              "<Figure size 432x288 with 1 Axes>"
            ],
            "image/png": "[encoded data removed]"
          },
          "metadata": {
            "needs_background": "light"
          }
        },
        {
          "output_type": "stream",
          "name": "stdout",
          "text": [
            "['Highest Generation value is:47.76%. mean Generation is 12.28%. best exemple:']\n"
          ]
        },
        {
          "output_type": "display_data",
          "data": {
            "text/plain": [
              "<Figure size 432x288 with 1 Axes>"
            ],
            "image/png": "[encoded data removed]"
          },
          "metadata": {
            "needs_background": "light"
          }
        },
        {
          "output_type": "stream",
          "name": "stdout",
          "text": [
            "['Highest Generation value is:40.99%. mean Generation is 18.61%. best exemple:']\n"
          ]
        },
        {
          "output_type": "display_data",
          "data": {
            "text/plain": [
              "<Figure size 432x288 with 1 Axes>"
            ],
            "image/png": "[encoded data removed]"
          },
          "metadata": {
            "needs_background": "light"
          }
        },
        {
          "output_type": "stream",
          "name": "stdout",
          "text": [
            "['Highest Generation value is:52.33%. mean Generation is 19.19%. best exemple:']\n"
          ]
        },
        {
          "output_type": "display_data",
          "data": {
            "text/plain": [
              "<Figure size 432x288 with 1 Axes>"
            ],
            "image/png": "[encoded data removed]"
          },
          "metadata": {
            "needs_background": "light"
          }
        },
        {
          "output_type": "stream",
          "name": "stdout",
          "text": [
            "['Highest Generation value is:51.42%. mean Generation is 21.69%. best exemple:']\n"
          ]
        },
        {
          "output_type": "display_data",
          "data": {
            "text/plain": [
              "<Figure size 432x288 with 1 Axes>"
            ],
            "image/png": "[encoded data removed]"
          },
          "metadata": {
            "needs_background": "light"
          }
        },
        {
          "output_type": "stream",
          "name": "stdout",
          "text": [
            "['Highest Generation value is:64.68%. mean Generation is 23.76%. best exemple:']\n"
          ]
        },
        {
          "output_type": "display_data",
          "data": {
            "text/plain": [
              "<Figure size 432x288 with 1 Axes>"
            ],
            "image/png": "[encoded data removed]"
          },
          "metadata": {
            "needs_background": "light"
          }
        },
        {
          "output_type": "stream",
          "name": "stdout",
          "text": [
            "['Highest Generation value is:64.68%. mean Generation is 29.21%. best exemple:']\n"
          ]
        },
        {
          "output_type": "display_data",
          "data": {
            "text/plain": [
              "<Figure size 432x288 with 1 Axes>"
            ],
            "image/png": "[encoded data removed]"
          },
          "metadata": {
            "needs_background": "light"
          }
        },
        {
          "output_type": "stream",
          "name": "stdout",
          "text": [
            "['Highest Generation value is:64.68%. mean Generation is 34.11%. best exemple:']\n"
          ]
        },
        {
          "output_type": "display_data",
          "data": {
            "text/plain": [
              "<Figure size 432x288 with 1 Axes>"
            ],
            "image/png": "[encoded data removed]"
          },
          "metadata": {
            "needs_background": "light"
          }
        },
        {
          "output_type": "stream",
          "name": "stdout",
          "text": [
            "['Highest Generation value is:64.68%. mean Generation is 34.59%. best exemple:']\n"
          ]
        },
        {
          "output_type": "display_data",
          "data": {
            "text/plain": [
              "<Figure size 432x288 with 1 Axes>"
            ],
            "image/png": "[encoded data removed]"
          },
          "metadata": {
            "needs_background": "light"
          }
        },
        {
          "output_type": "stream",
          "name": "stdout",
          "text": [
            "['Highest Generation value is:65.18%. mean Generation is 38.39%. best exemple:']\n"
          ]
        },
        {
          "output_type": "display_data",
          "data": {
            "text/plain": [
              "<Figure size 432x288 with 1 Axes>"
            ],
            "image/png": "[encoded data removed]"
          },
          "metadata": {
            "needs_background": "light"
          }
        },
        {
          "output_type": "stream",
          "name": "stdout",
          "text": [
            "['Highest Generation value is:65.48%. mean Generation is 41.72%. best exemple:']\n"
          ]
        },
        {
          "output_type": "display_data",
          "data": {
            "text/plain": [
              "<Figure size 432x288 with 1 Axes>"
            ],
            "image/png": "[encoded data removed]"
          },
          "metadata": {
            "needs_background": "light"
          }
        },
        {
          "output_type": "stream",
          "name": "stdout",
          "text": [
            "['Highest Generation value is:77.94%. mean Generation is 47.79%. best exemple:']\n"
          ]
        },
        {
          "output_type": "display_data",
          "data": {
            "text/plain": [
              "<Figure size 432x288 with 1 Axes>"
            ],
            "image/png": "[encoded data removed]"
          },
          "metadata": {
            "needs_background": "light"
          }
        },
        {
          "output_type": "stream",
          "name": "stdout",
          "text": [
            "['Highest Generation value is:77.94%. mean Generation is 49.99%. best exemple:']\n"
          ]
        },
        {
          "output_type": "display_data",
          "data": {
            "text/plain": [
              "<Figure size 432x288 with 1 Axes>"
            ],
            "image/png": "[encoded data removed]"
          },
          "metadata": {
            "needs_background": "light"
          }
        },
        {
          "output_type": "stream",
          "name": "stdout",
          "text": [
            "['Highest Generation value is:77.94%. mean Generation is 49.99%. best exemple:']\n"
          ]
        },
        {
          "output_type": "display_data",
          "data": {
            "text/plain": [
              "<Figure size 432x288 with 1 Axes>"
            ],
            "image/png": "[encoded data removed]"
          },
          "metadata": {
            "needs_background": "light"
          }
        },
        {
          "output_type": "stream",
          "name": "stdout",
          "text": [
            "['Highest Generation value is:77.94%. mean Generation is 54.98%. best exemple:']\n"
          ]
        },
        {
          "output_type": "display_data",
          "data": {
            "text/plain": [
              "<Figure size 432x288 with 1 Axes>"
            ],
            "image/png": "[encoded data removed]"
          },
          "metadata": {
            "needs_background": "light"
          }
        },
        {
          "output_type": "stream",
          "name": "stdout",
          "text": [
            "['Highest Generation value is:78.64%. mean Generation is 55.03%. best exemple:']\n"
          ]
        },
        {
          "output_type": "display_data",
          "data": {
            "text/plain": [
              "<Figure size 432x288 with 1 Axes>"
            ],
            "image/png": "[encoded data removed]"
          },
          "metadata": {
            "needs_background": "light"
          }
        },
        {
          "output_type": "stream",
          "name": "stdout",
          "text": [
            "['Highest Generation value is:79.05%. mean Generation is 60.27%. best exemple:']\n"
          ]
        },
        {
          "output_type": "display_data",
          "data": {
            "text/plain": [
              "<Figure size 432x288 with 1 Axes>"
            ],
            "image/png": "[encoded data removed]"
          },
          "metadata": {
            "needs_background": "light"
          }
        },
        {
          "output_type": "stream",
          "name": "stdout",
          "text": [
            "['Highest Generation value is:90.38%. mean Generation is 60.84%. best exemple:']\n"
          ]
        },
        {
          "output_type": "display_data",
          "data": {
            "text/plain": [
              "<Figure size 432x288 with 1 Axes>"
            ],
            "image/png": "[encoded data removed]"
          },
          "metadata": {
            "needs_background": "light"
          }
        },
        {
          "output_type": "stream",
          "name": "stdout",
          "text": [
            "['Highest Generation value is:90.38%. mean Generation is 61.18%. best exemple:']\n"
          ]
        },
        {
          "output_type": "display_data",
          "data": {
            "text/plain": [
              "<Figure size 432x288 with 1 Axes>"
            ],
            "image/png": "[encoded data removed]"
          },
          "metadata": {
            "needs_background": "light"
          }
        },
        {
          "output_type": "stream",
          "name": "stdout",
          "text": [
            "['Highest Generation value is:91.9%. mean Generation is 63.03%. best exemple:']\n"
          ]
        },
        {
          "output_type": "display_data",
          "data": {
            "text/plain": [
              "<Figure size 432x288 with 1 Axes>"
            ],
            "image/png": "[encoded data removed]"
          },
          "metadata": {
            "needs_background": "light"
          }
        },
        {
          "output_type": "stream",
          "name": "stdout",
          "text": [
            "['Highest Generation value is:90.38%. mean Generation is 65.54%. best exemple:']\n"
          ]
        },
        {
          "output_type": "display_data",
          "data": {
            "text/plain": [
              "<Figure size 432x288 with 1 Axes>"
            ],
            "image/png": "[encoded data removed]"
          },
          "metadata": {
            "needs_background": "light"
          }
        },
        {
          "output_type": "stream",
          "name": "stdout",
          "text": [
            "['Highest Generation value is:90.38%. mean Generation is 64.56%. best exemple:']\n"
          ]
        },
        {
          "output_type": "display_data",
          "data": {
            "text/plain": [
              "<Figure size 432x288 with 1 Axes>"
            ],
            "image/png": "[encoded data removed]"
          },
          "metadata": {
            "needs_background": "light"
          }
        },
        {
          "output_type": "stream",
          "name": "stdout",
          "text": [
            "['Highest Generation value is:90.38%. mean Generation is 65.67%. best exemple:']\n"
          ]
        },
        {
          "output_type": "display_data",
          "data": {
            "text/plain": [
              "<Figure size 432x288 with 1 Axes>"
            ],
            "image/png": "[encoded data removed]"
          },
          "metadata": {
            "needs_background": "light"
          }
        },
        {
          "output_type": "stream",
          "name": "stdout",
          "text": [
            "['Highest Generation value is:90.38%. mean Generation is 68.19%. best exemple:']\n"
          ]
        },
        {
          "output_type": "display_data",
          "data": {
            "text/plain": [
              "<Figure size 432x288 with 1 Axes>"
            ],
            "image/png": "[encoded data removed]"
          },
          "metadata": {
            "needs_background": "light"
          }
        },
        {
          "output_type": "stream",
          "name": "stdout",
          "text": [
            "['Highest Generation value is:90.38%. mean Generation is 67.78%. best exemple:']\n"
          ]
        },
        {
          "output_type": "display_data",
          "data": {
            "text/plain": [
              "<Figure size 432x288 with 1 Axes>"
            ],
            "image/png": "[encoded data removed]"
          },
          "metadata": {
            "needs_background": "light"
          }
        },
        {
          "output_type": "stream",
          "name": "stdout",
          "text": [
            "['Highest Generation value is:90.38%. mean Generation is 69.55%. best exemple:']\n"
          ]
        },
        {
          "output_type": "display_data",
          "data": {
            "text/plain": [
              "<Figure size 432x288 with 1 Axes>"
            ],
            "image/png": "[encoded data removed]"
          },
          "metadata": {
            "needs_background": "light"
          }
        },
        {
          "output_type": "stream",
          "name": "stdout",
          "text": [
            "['Highest Generation value is:90.38%. mean Generation is 68.89%. best exemple:']\n"
          ]
        },
        {
          "output_type": "display_data",
          "data": {
            "text/plain": [
              "<Figure size 432x288 with 1 Axes>"
            ],
            "image/png": "[encoded data removed]"
          },
          "metadata": {
            "needs_background": "light"
          }
        },
        {
          "output_type": "stream",
          "name": "stdout",
          "text": [
            "['Highest Generation value is:90.38%. mean Generation is 73.03%. best exemple:']\n"
          ]
        },
        {
          "output_type": "display_data",
          "data": {
            "text/plain": [
              "<Figure size 432x288 with 1 Axes>"
            ],
            "image/png": "[encoded data removed]"
          },
          "metadata": {
            "needs_background": "light"
          }
        },
        {
          "output_type": "stream",
          "name": "stdout",
          "text": [
            "['Highest Generation value is:90.89%. mean Generation is 75.71%. best exemple:']\n"
          ]
        },
        {
          "output_type": "display_data",
          "data": {
            "text/plain": [
              "<Figure size 432x288 with 1 Axes>"
            ],
            "image/png": "[encoded data removed]"
          },
          "metadata": {
            "needs_background": "light"
          }
        },
        {
          "output_type": "stream",
          "name": "stdout",
          "text": [
            "['Highest Generation value is:90.89%. mean Generation is 72.62%. best exemple:']\n"
          ]
        },
        {
          "output_type": "display_data",
          "data": {
            "text/plain": [
              "<Figure size 432x288 with 1 Axes>"
            ],
            "image/png": "[encoded data removed]"
          },
          "metadata": {
            "needs_background": "light"
          }
        },
        {
          "output_type": "stream",
          "name": "stdout",
          "text": [
            "['Highest Generation value is:90.89%. mean Generation is 73.14%. best exemple:']\n"
          ]
        },
        {
          "output_type": "display_data",
          "data": {
            "text/plain": [
              "<Figure size 432x288 with 1 Axes>"
            ],
            "image/png": "[encoded data removed]"
          },
          "metadata": {
            "needs_background": "light"
          }
        },
        {
          "output_type": "stream",
          "name": "stdout",
          "text": [
            "['Highest Generation value is:90.89%. mean Generation is 74.02%. best exemple:']\n"
          ]
        },
        {
          "output_type": "display_data",
          "data": {
            "text/plain": [
              "<Figure size 432x288 with 1 Axes>"
            ],
            "image/png": "[encoded data removed]"
          },
          "metadata": {
            "needs_background": "light"
          }
        },
        {
          "output_type": "stream",
          "name": "stdout",
          "text": [
            "['Highest Generation value is:90.89%. mean Generation is 75.08%. best exemple:']\n"
          ]
        },
        {
          "output_type": "display_data",
          "data": {
            "text/plain": [
              "<Figure size 432x288 with 1 Axes>"
            ],
            "image/png": "[encoded data removed]"
          },
          "metadata": {
            "needs_background": "light"
          }
        },
        {
          "output_type": "stream",
          "name": "stdout",
          "text": [
            "['Highest Generation value is:90.89%. mean Generation is 76.71%. best exemple:']\n"
          ]
        },
        {
          "output_type": "display_data",
          "data": {
            "text/plain": [
              "<Figure size 432x288 with 1 Axes>"
            ],
            "image/png": "[encoded data removed]"
          },
          "metadata": {
            "needs_background": "light"
          }
        },
        {
          "output_type": "stream",
          "name": "stdout",
          "text": [
            "['Highest Generation value is:90.89%. mean Generation is 78.91%. best exemple:']\n"
          ]
        },
        {
          "output_type": "display_data",
          "data": {
            "text/plain": [
              "<Figure size 432x288 with 1 Axes>"
            ],
            "image/png": "[encoded data removed]"
          },
          "metadata": {
            "needs_background": "light"
          }
        },
        {
          "output_type": "stream",
          "name": "stdout",
          "text": [
            "['Highest Generation value is:91.29%. mean Generation is 77.28%. best exemple:']\n"
          ]
        },
        {
          "output_type": "display_data",
          "data": {
            "text/plain": [
              "<Figure size 432x288 with 1 Axes>"
            ],
            "image/png": "[encoded data removed]"
          },
          "metadata": {
            "needs_background": "light"
          }
        },
        {
          "output_type": "stream",
          "name": "stdout",
          "text": [
            "['Highest Generation value is:91.29%. mean Generation is 74.44%. best exemple:']\n"
          ]
        },
        {
          "output_type": "display_data",
          "data": {
            "text/plain": [
              "<Figure size 432x288 with 1 Axes>"
            ],
            "image/png": "[encoded data removed]"
          },
          "metadata": {
            "needs_background": "light"
          }
        },
        {
          "output_type": "stream",
          "name": "stdout",
          "text": [
            "['Highest Generation value is:91.29%. mean Generation is 75.2%. best exemple:']\n"
          ]
        },
        {
          "output_type": "display_data",
          "data": {
            "text/plain": [
              "<Figure size 432x288 with 1 Axes>"
            ],
            "image/png": "[encoded data removed]"
          },
          "metadata": {
            "needs_background": "light"
          }
        },
        {
          "output_type": "stream",
          "name": "stdout",
          "text": [
            "['Highest Generation value is:91.29%. mean Generation is 74.78%. best exemple:']\n"
          ]
        },
        {
          "output_type": "display_data",
          "data": {
            "text/plain": [
              "<Figure size 432x288 with 1 Axes>"
            ],
            "image/png": "[encoded data removed]"
          },
          "metadata": {
            "needs_background": "light"
          }
        },
        {
          "output_type": "stream",
          "name": "stdout",
          "text": [
            "['Highest Generation value is:91.7%. mean Generation is 74.54%. best exemple:']\n"
          ]
        },
        {
          "output_type": "display_data",
          "data": {
            "text/plain": [
              "<Figure size 432x288 with 1 Axes>"
            ],
            "image/png": "[encoded data removed]"
          },
          "metadata": {
            "needs_background": "light"
          }
        },
        {
          "output_type": "stream",
          "name": "stdout",
          "text": [
            "['Highest Generation value is:91.29%. mean Generation is 71.6%. best exemple:']\n"
          ]
        },
        {
          "output_type": "display_data",
          "data": {
            "text/plain": [
              "<Figure size 432x288 with 1 Axes>"
            ],
            "image/png": "[encoded data removed]"
          },
          "metadata": {
            "needs_background": "light"
          }
        },
        {
          "output_type": "stream",
          "name": "stdout",
          "text": [
            "['Highest Generation value is:91.7%. mean Generation is 69.9%. best exemple:']\n"
          ]
        },
        {
          "output_type": "display_data",
          "data": {
            "text/plain": [
              "<Figure size 432x288 with 1 Axes>"
            ],
            "image/png": "[encoded data removed]"
          },
          "metadata": {
            "needs_background": "light"
          }
        },
        {
          "output_type": "stream",
          "name": "stdout",
          "text": [
            "['Highest Generation value is:91.7%. mean Generation is 71.81%. best exemple:']\n"
          ]
        },
        {
          "output_type": "display_data",
          "data": {
            "text/plain": [
              "<Figure size 432x288 with 1 Axes>"
            ],
            "image/png": "[encoded data removed]"
          },
          "metadata": {
            "needs_background": "light"
          }
        },
        {
          "output_type": "stream",
          "name": "stdout",
          "text": [
            "['Highest Generation value is:91.7%. mean Generation is 72.74%. best exemple:']\n"
          ]
        },
        {
          "output_type": "display_data",
          "data": {
            "text/plain": [
              "<Figure size 432x288 with 1 Axes>"
            ],
            "image/png": "[encoded data removed]"
          },
          "metadata": {
            "needs_background": "light"
          }
        },
        {
          "output_type": "stream",
          "name": "stdout",
          "text": [
            "['Highest Generation value is:91.7%. mean Generation is 75.01%. best exemple:']\n"
          ]
        },
        {
          "output_type": "display_data",
          "data": {
            "text/plain": [
              "<Figure size 432x288 with 1 Axes>"
            ],
            "image/png": "[encoded data removed]"
          },
          "metadata": {
            "needs_background": "light"
          }
        },
        {
          "output_type": "stream",
          "name": "stdout",
          "text": [
            "['Highest Generation value is:91.8%. mean Generation is 74.62%. best exemple:']\n"
          ]
        },
        {
          "output_type": "display_data",
          "data": {
            "text/plain": [
              "<Figure size 432x288 with 1 Axes>"
            ],
            "image/png": "[encoded data removed]"
          },
          "metadata": {
            "needs_background": "light"
          }
        },
        {
          "output_type": "stream",
          "name": "stdout",
          "text": [
            "['Highest Generation value is:91.8%. mean Generation is 76.0%. best exemple:']\n"
          ]
        },
        {
          "output_type": "display_data",
          "data": {
            "text/plain": [
              "<Figure size 432x288 with 1 Axes>"
            ],
            "image/png": "[encoded data removed]"
          },
          "metadata": {
            "needs_background": "light"
          }
        },
        {
          "output_type": "stream",
          "name": "stdout",
          "text": [
            "['Highest Generation value is:91.7%. mean Generation is 73.38%. best exemple:']\n"
          ]
        },
        {
          "output_type": "display_data",
          "data": {
            "text/plain": [
              "<Figure size 432x288 with 1 Axes>"
            ],
            "image/png": "[encoded data removed]"
          },
          "metadata": {
            "needs_background": "light"
          }
        },
        {
          "output_type": "stream",
          "name": "stdout",
          "text": [
            "['Highest Generation value is:92.11%. mean Generation is 73.41%. best exemple:']\n"
          ]
        },
        {
          "output_type": "display_data",
          "data": {
            "text/plain": [
              "<Figure size 432x288 with 1 Axes>"
            ],
            "image/png": "[encoded data removed]"
          },
          "metadata": {
            "needs_background": "light"
          }
        },
        {
          "output_type": "stream",
          "name": "stdout",
          "text": [
            "['Highest Generation value is:92.11%. mean Generation is 79.32%. best exemple:']\n"
          ]
        },
        {
          "output_type": "display_data",
          "data": {
            "text/plain": [
              "<Figure size 432x288 with 1 Axes>"
            ],
            "image/png": "[encoded data removed]"
          },
          "metadata": {
            "needs_background": "light"
          }
        },
        {
          "output_type": "stream",
          "name": "stdout",
          "text": [
            "['Highest Generation value is:92.11%. mean Generation is 76.12%. best exemple:']\n"
          ]
        },
        {
          "output_type": "display_data",
          "data": {
            "text/plain": [
              "<Figure size 432x288 with 1 Axes>"
            ],
            "image/png": "[encoded data removed]"
          },
          "metadata": {
            "needs_background": "light"
          }
        },
        {
          "output_type": "stream",
          "name": "stdout",
          "text": [
            "['Highest Generation value is:93.12%. mean Generation is 73.54%. best exemple:']\n"
          ]
        },
        {
          "output_type": "display_data",
          "data": {
            "text/plain": [
              "<Figure size 432x288 with 1 Axes>"
            ],
            "image/png": "[encoded data removed]"
          },
          "metadata": {
            "needs_background": "light"
          }
        },
        {
          "output_type": "stream",
          "name": "stdout",
          "text": [
            "['Highest Generation value is:92.71%. mean Generation is 73.78%. best exemple:']\n"
          ]
        },
        {
          "output_type": "display_data",
          "data": {
            "text/plain": [
              "<Figure size 432x288 with 1 Axes>"
            ],
            "image/png": "[encoded data removed]"
          },
          "metadata": {
            "needs_background": "light"
          }
        },
        {
          "output_type": "stream",
          "name": "stdout",
          "text": [
            "['Highest Generation value is:92.11%. mean Generation is 71.42%. best exemple:']\n"
          ]
        },
        {
          "output_type": "display_data",
          "data": {
            "text/plain": [
              "<Figure size 432x288 with 1 Axes>"
            ],
            "image/png": "[encoded data removed]"
          },
          "metadata": {
            "needs_background": "light"
          }
        },
        {
          "output_type": "stream",
          "name": "stdout",
          "text": [
            "['Highest Generation value is:92.61%. mean Generation is 74.17%. best exemple:']\n"
          ]
        },
        {
          "output_type": "display_data",
          "data": {
            "text/plain": [
              "<Figure size 432x288 with 1 Axes>"
            ],
            "image/png": "[encoded data removed]"
          },
          "metadata": {
            "needs_background": "light"
          }
        },
        {
          "output_type": "stream",
          "name": "stdout",
          "text": [
            "['Highest Generation value is:93.02%. mean Generation is 78.3%. best exemple:']\n"
          ]
        },
        {
          "output_type": "display_data",
          "data": {
            "text/plain": [
              "<Figure size 432x288 with 1 Axes>"
            ],
            "image/png": "[encoded data removed]"
          },
          "metadata": {
            "needs_background": "light"
          }
        },
        {
          "output_type": "stream",
          "name": "stdout",
          "text": [
            "['Highest Generation value is:93.12%. mean Generation is 78.33%. best exemple:']\n"
          ]
        },
        {
          "output_type": "display_data",
          "data": {
            "text/plain": [
              "<Figure size 432x288 with 1 Axes>"
            ],
            "image/png": "[encoded data removed]"
          },
          "metadata": {
            "needs_background": "light"
          }
        },
        {
          "output_type": "stream",
          "name": "stdout",
          "text": [
            "['Highest Generation value is:93.32%. mean Generation is 78.06%. best exemple:']\n"
          ]
        },
        {
          "output_type": "display_data",
          "data": {
            "text/plain": [
              "<Figure size 432x288 with 1 Axes>"
            ],
            "image/png": "[encoded data removed]"
          },
          "metadata": {
            "needs_background": "light"
          }
        },
        {
          "output_type": "stream",
          "name": "stdout",
          "text": [
            "['Highest Generation value is:93.32%. mean Generation is 81.65%. best exemple:']\n"
          ]
        },
        {
          "output_type": "display_data",
          "data": {
            "text/plain": [
              "<Figure size 432x288 with 1 Axes>"
            ],
            "image/png": "[encoded data removed]"
          },
          "metadata": {
            "needs_background": "light"
          }
        },
        {
          "output_type": "stream",
          "name": "stdout",
          "text": [
            "['Highest Generation value is:93.32%. mean Generation is 83.07%. best exemple:']\n"
          ]
        },
        {
          "output_type": "display_data",
          "data": {
            "text/plain": [
              "<Figure size 432x288 with 1 Axes>"
            ],
            "image/png": "[encoded data removed]"
          },
          "metadata": {
            "needs_background": "light"
          }
        },
        {
          "output_type": "stream",
          "name": "stdout",
          "text": [
            "['Highest Generation value is:93.32%. mean Generation is 80.16%. best exemple:']\n"
          ]
        },
        {
          "output_type": "display_data",
          "data": {
            "text/plain": [
              "<Figure size 432x288 with 1 Axes>"
            ],
            "image/png": "[encoded data removed]"
          },
          "metadata": {
            "needs_background": "light"
          }
        },
        {
          "output_type": "stream",
          "name": "stdout",
          "text": [
            "['Highest Generation value is:94.13%. mean Generation is 82.62%. best exemple:']\n"
          ]
        },
        {
          "output_type": "display_data",
          "data": {
            "text/plain": [
              "<Figure size 432x288 with 1 Axes>"
            ],
            "image/png": "[encoded data removed]"
          },
          "metadata": {
            "needs_background": "light"
          }
        },
        {
          "output_type": "stream",
          "name": "stdout",
          "text": [
            "['Highest Generation value is:94.23%. mean Generation is 82.47%. best exemple:']\n"
          ]
        },
        {
          "output_type": "display_data",
          "data": {
            "text/plain": [
              "<Figure size 432x288 with 1 Axes>"
            ],
            "image/png": "[encoded data removed]"
          },
          "metadata": {
            "needs_background": "light"
          }
        },
        {
          "output_type": "stream",
          "name": "stdout",
          "text": [
            "['Highest Generation value is:94.23%. mean Generation is 84.93%. best exemple:']\n"
          ]
        },
        {
          "output_type": "display_data",
          "data": {
            "text/plain": [
              "<Figure size 432x288 with 1 Axes>"
            ],
            "image/png": "[encoded data removed]"
          },
          "metadata": {
            "needs_background": "light"
          }
        },
        {
          "output_type": "stream",
          "name": "stdout",
          "text": [
            "['Highest Generation value is:94.23%. mean Generation is 76.9%. best exemple:']\n"
          ]
        },
        {
          "output_type": "display_data",
          "data": {
            "text/plain": [
              "<Figure size 432x288 with 1 Axes>"
            ],
            "image/png": "[encoded data removed]"
          },
          "metadata": {
            "needs_background": "light"
          }
        },
        {
          "output_type": "stream",
          "name": "stdout",
          "text": [
            "['Highest Generation value is:94.64%. mean Generation is 78.05%. best exemple:']\n"
          ]
        },
        {
          "output_type": "display_data",
          "data": {
            "text/plain": [
              "<Figure size 432x288 with 1 Axes>"
            ],
            "image/png": "[encoded data removed]"
          },
          "metadata": {
            "needs_background": "light"
          }
        },
        {
          "output_type": "stream",
          "name": "stdout",
          "text": [
            "['Highest Generation value is:94.23%. mean Generation is 75.24%. best exemple:']\n"
          ]
        },
        {
          "output_type": "display_data",
          "data": {
            "text/plain": [
              "<Figure size 432x288 with 1 Axes>"
            ],
            "image/png": "[encoded data removed]"
          },
          "metadata": {
            "needs_background": "light"
          }
        },
        {
          "output_type": "stream",
          "name": "stdout",
          "text": [
            "['Highest Generation value is:94.23%. mean Generation is 73.17%. best exemple:']\n"
          ]
        },
        {
          "output_type": "display_data",
          "data": {
            "text/plain": [
              "<Figure size 432x288 with 1 Axes>"
            ],
            "image/png": "[encoded data removed]"
          },
          "metadata": {
            "needs_background": "light"
          }
        },
        {
          "output_type": "stream",
          "name": "stdout",
          "text": [
            "['Highest Generation value is:94.23%. mean Generation is 72.96%. best exemple:']\n"
          ]
        },
        {
          "output_type": "display_data",
          "data": {
            "text/plain": [
              "<Figure size 432x288 with 1 Axes>"
            ],
            "image/png": "[encoded data removed]"
          },
          "metadata": {
            "needs_background": "light"
          }
        },
        {
          "output_type": "stream",
          "name": "stdout",
          "text": [
            "['Highest Generation value is:94.23%. mean Generation is 76.76%. best exemple:']\n"
          ]
        },
        {
          "output_type": "display_data",
          "data": {
            "text/plain": [
              "<Figure size 432x288 with 1 Axes>"
            ],
            "image/png": "[encoded data removed]"
          },
          "metadata": {
            "needs_background": "light"
          }
        },
        {
          "output_type": "stream",
          "name": "stdout",
          "text": [
            "['Highest Generation value is:94.33%. mean Generation is 79.12%. best exemple:']\n"
          ]
        },
        {
          "output_type": "display_data",
          "data": {
            "text/plain": [
              "<Figure size 432x288 with 1 Axes>"
            ],
            "image/png": "[encoded data removed]"
          },
          "metadata": {
            "needs_background": "light"
          }
        },
        {
          "output_type": "stream",
          "name": "stdout",
          "text": [
            "['Highest Generation value is:94.54%. mean Generation is 82.69%. best exemple:']\n"
          ]
        },
        {
          "output_type": "display_data",
          "data": {
            "text/plain": [
              "<Figure size 432x288 with 1 Axes>"
            ],
            "image/png": "[encoded data removed]"
          },
          "metadata": {
            "needs_background": "light"
          }
        },
        {
          "output_type": "stream",
          "name": "stdout",
          "text": [
            "['Highest Generation value is:94.23%. mean Generation is 79.3%. best exemple:']\n"
          ]
        },
        {
          "output_type": "display_data",
          "data": {
            "text/plain": [
              "<Figure size 432x288 with 1 Axes>"
            ],
            "image/png": "[encoded data removed]"
          },
          "metadata": {
            "needs_background": "light"
          }
        },
        {
          "output_type": "stream",
          "name": "stdout",
          "text": [
            "['Highest Generation value is:94.23%. mean Generation is 75.73%. best exemple:']\n"
          ]
        },
        {
          "output_type": "display_data",
          "data": {
            "text/plain": [
              "<Figure size 432x288 with 1 Axes>"
            ],
            "image/png": "[encoded data removed]"
          },
          "metadata": {
            "needs_background": "light"
          }
        },
        {
          "output_type": "stream",
          "name": "stdout",
          "text": [
            "['Highest Generation value is:94.43%. mean Generation is 75.63%. best exemple:']\n"
          ]
        },
        {
          "output_type": "display_data",
          "data": {
            "text/plain": [
              "<Figure size 432x288 with 1 Axes>"
            ],
            "image/png": "[encoded data removed]"
          },
          "metadata": {
            "needs_background": "light"
          }
        },
        {
          "output_type": "stream",
          "name": "stdout",
          "text": [
            "['Highest Generation value is:94.94%. mean Generation is 79.77%. best exemple:']\n"
          ]
        },
        {
          "output_type": "display_data",
          "data": {
            "text/plain": [
              "<Figure size 432x288 with 1 Axes>"
            ],
            "image/png": "[encoded data removed]"
          },
          "metadata": {
            "needs_background": "light"
          }
        },
        {
          "output_type": "stream",
          "name": "stdout",
          "text": [
            "['Highest Generation value is:94.63%. mean Generation is 79.96%. best exemple:']\n"
          ]
        },
        {
          "output_type": "display_data",
          "data": {
            "text/plain": [
              "<Figure size 432x288 with 1 Axes>"
            ],
            "image/png": "[encoded data removed]"
          },
          "metadata": {
            "needs_background": "light"
          }
        },
        {
          "output_type": "stream",
          "name": "stdout",
          "text": [
            "['Highest Generation value is:94.63%. mean Generation is 81.29%. best exemple:']\n"
          ]
        },
        {
          "output_type": "display_data",
          "data": {
            "text/plain": [
              "<Figure size 432x288 with 1 Axes>"
            ],
            "image/png": "[encoded data removed]"
          },
          "metadata": {
            "needs_background": "light"
          }
        },
        {
          "output_type": "stream",
          "name": "stdout",
          "text": [
            "['Highest Generation value is:94.94%. mean Generation is 80.16%. best exemple:']\n"
          ]
        },
        {
          "output_type": "display_data",
          "data": {
            "text/plain": [
              "<Figure size 432x288 with 1 Axes>"
            ],
            "image/png": "[encoded data removed]"
          },
          "metadata": {
            "needs_background": "light"
          }
        },
        {
          "output_type": "stream",
          "name": "stdout",
          "text": [
            "['Highest Generation value is:94.94%. mean Generation is 79.3%. best exemple:']\n"
          ]
        },
        {
          "output_type": "display_data",
          "data": {
            "text/plain": [
              "<Figure size 432x288 with 1 Axes>"
            ],
            "image/png": "[encoded data removed]"
          },
          "metadata": {
            "needs_background": "light"
          }
        },
        {
          "output_type": "stream",
          "name": "stdout",
          "text": [
            "['Highest Generation value is:95.24%. mean Generation is 81.38%. best exemple:']\n"
          ]
        },
        {
          "output_type": "display_data",
          "data": {
            "text/plain": [
              "<Figure size 432x288 with 1 Axes>"
            ],
            "image/png": "[encoded data removed]"
          },
          "metadata": {
            "needs_background": "light"
          }
        },
        {
          "output_type": "stream",
          "name": "stdout",
          "text": [
            "['Highest Generation value is:95.24%. mean Generation is 80.08%. best exemple:']\n"
          ]
        },
        {
          "output_type": "display_data",
          "data": {
            "text/plain": [
              "<Figure size 432x288 with 1 Axes>"
            ],
            "image/png": "[encoded data removed]"
          },
          "metadata": {
            "needs_background": "light"
          }
        },
        {
          "output_type": "stream",
          "name": "stdout",
          "text": [
            "['Highest Generation value is:95.24%. mean Generation is 77.01%. best exemple:']\n"
          ]
        },
        {
          "output_type": "display_data",
          "data": {
            "text/plain": [
              "<Figure size 432x288 with 1 Axes>"
            ],
            "image/png": "[encoded data removed]"
          },
          "metadata": {
            "needs_background": "light"
          }
        },
        {
          "output_type": "stream",
          "name": "stdout",
          "text": [
            "['Highest Generation value is:95.65%. mean Generation is 82.14%. best exemple:']\n"
          ]
        },
        {
          "output_type": "display_data",
          "data": {
            "text/plain": [
              "<Figure size 432x288 with 1 Axes>"
            ],
            "image/png": "[encoded data removed]"
          },
          "metadata": {
            "needs_background": "light"
          }
        },
        {
          "output_type": "stream",
          "name": "stdout",
          "text": [
            "['Highest Generation value is:95.34%. mean Generation is 82.59%. best exemple:']\n"
          ]
        },
        {
          "output_type": "display_data",
          "data": {
            "text/plain": [
              "<Figure size 432x288 with 1 Axes>"
            ],
            "image/png": "[encoded data removed]"
          },
          "metadata": {
            "needs_background": "light"
          }
        },
        {
          "output_type": "stream",
          "name": "stdout",
          "text": [
            "['Highest Generation value is:95.65%. mean Generation is 82.92%. best exemple:']\n"
          ]
        },
        {
          "output_type": "display_data",
          "data": {
            "text/plain": [
              "<Figure size 432x288 with 1 Axes>"
            ],
            "image/png": "[encoded data removed]"
          },
          "metadata": {
            "needs_background": "light"
          }
        },
        {
          "output_type": "stream",
          "name": "stdout",
          "text": [
            "['Highest Generation value is:96.46%. mean Generation is 81.53%. best exemple:']\n"
          ]
        },
        {
          "output_type": "display_data",
          "data": {
            "text/plain": [
              "<Figure size 432x288 with 1 Axes>"
            ],
            "image/png": "[encoded data removed]"
          },
          "metadata": {
            "needs_background": "light"
          }
        },
        {
          "output_type": "stream",
          "name": "stdout",
          "text": [
            "['Highest Generation value is:96.46%. mean Generation is 80.53%. best exemple:']\n"
          ]
        },
        {
          "output_type": "display_data",
          "data": {
            "text/plain": [
              "<Figure size 432x288 with 1 Axes>"
            ],
            "image/png": "[encoded data removed]"
          },
          "metadata": {
            "needs_background": "light"
          }
        },
        {
          "output_type": "stream",
          "name": "stdout",
          "text": [
            "['Highest Generation value is:96.46%. mean Generation is 81.65%. best exemple:']\n"
          ]
        },
        {
          "output_type": "display_data",
          "data": {
            "text/plain": [
              "<Figure size 432x288 with 1 Axes>"
            ],
            "image/png": "[encoded data removed]"
          },
          "metadata": {
            "needs_background": "light"
          }
        },
        {
          "output_type": "stream",
          "name": "stdout",
          "text": [
            "['Highest Generation value is:96.46%. mean Generation is 78.59%. best exemple:']\n"
          ]
        },
        {
          "output_type": "display_data",
          "data": {
            "text/plain": [
              "<Figure size 432x288 with 1 Axes>"
            ],
            "image/png": "[encoded data removed]"
          },
          "metadata": {
            "needs_background": "light"
          }
        },
        {
          "output_type": "stream",
          "name": "stdout",
          "text": [
            "['Highest Generation value is:95.65%. mean Generation is 76.98%. best exemple:']\n"
          ]
        },
        {
          "output_type": "display_data",
          "data": {
            "text/plain": [
              "<Figure size 432x288 with 1 Axes>"
            ],
            "image/png": "[encoded data removed]"
          },
          "metadata": {
            "needs_background": "light"
          }
        },
        {
          "output_type": "stream",
          "name": "stdout",
          "text": [
            "['Highest Generation value is:96.35%. mean Generation is 85.89%. best exemple:']\n"
          ]
        },
        {
          "output_type": "display_data",
          "data": {
            "text/plain": [
              "<Figure size 432x288 with 1 Axes>"
            ],
            "image/png": "[encoded data removed]"
          },
          "metadata": {
            "needs_background": "light"
          }
        },
        {
          "output_type": "stream",
          "name": "stdout",
          "text": [
            "['Highest Generation value is:95.65%. mean Generation is 84.96%. best exemple:']\n"
          ]
        },
        {
          "output_type": "display_data",
          "data": {
            "text/plain": [
              "<Figure size 432x288 with 1 Axes>"
            ],
            "image/png": "[encoded data removed]"
          },
          "metadata": {
            "needs_background": "light"
          }
        },
        {
          "output_type": "stream",
          "name": "stdout",
          "text": [
            "['Highest Generation value is:95.65%. mean Generation is 87.37%. best exemple:']\n"
          ]
        },
        {
          "output_type": "display_data",
          "data": {
            "text/plain": [
              "<Figure size 432x288 with 1 Axes>"
            ],
            "image/png": "[encoded data removed]"
          },
          "metadata": {
            "needs_background": "light"
          }
        },
        {
          "output_type": "stream",
          "name": "stdout",
          "text": [
            "['Highest Generation value is:95.45%. mean Generation is 81.11%. best exemple:']\n"
          ]
        },
        {
          "output_type": "display_data",
          "data": {
            "text/plain": [
              "<Figure size 432x288 with 1 Axes>"
            ],
            "image/png": "[encoded data removed]"
          },
          "metadata": {
            "needs_background": "light"
          }
        },
        {
          "output_type": "stream",
          "name": "stdout",
          "text": [
            "['Highest Generation value is:96.05%. mean Generation is 83.22%. best exemple:']\n"
          ]
        },
        {
          "output_type": "display_data",
          "data": {
            "text/plain": [
              "<Figure size 432x288 with 1 Axes>"
            ],
            "image/png": "[encoded data removed]"
          },
          "metadata": {
            "needs_background": "light"
          }
        },
        {
          "output_type": "stream",
          "name": "stdout",
          "text": [
            "['Highest Generation value is:96.56%. mean Generation is 84.73%. best exemple:']\n"
          ]
        },
        {
          "output_type": "display_data",
          "data": {
            "text/plain": [
              "<Figure size 432x288 with 1 Axes>"
            ],
            "image/png": "[encoded data removed]"
          },
          "metadata": {
            "needs_background": "light"
          }
        },
        {
          "output_type": "stream",
          "name": "stdout",
          "text": [
            "['Highest Generation value is:96.05%. mean Generation is 85.48%. best exemple:']\n"
          ]
        },
        {
          "output_type": "display_data",
          "data": {
            "text/plain": [
              "<Figure size 432x288 with 1 Axes>"
            ],
            "image/png": "[encoded data removed]"
          },
          "metadata": {
            "needs_background": "light"
          }
        },
        {
          "output_type": "stream",
          "name": "stdout",
          "text": [
            "['Highest Generation value is:95.95%. mean Generation is 80.81%. best exemple:']\n"
          ]
        },
        {
          "output_type": "display_data",
          "data": {
            "text/plain": [
              "<Figure size 432x288 with 1 Axes>"
            ],
            "image/png": "[encoded data removed]"
          },
          "metadata": {
            "needs_background": "light"
          }
        },
        {
          "output_type": "stream",
          "name": "stdout",
          "text": [
            "['Highest Generation value is:95.75%. mean Generation is 78.74%. best exemple:']\n"
          ]
        },
        {
          "output_type": "display_data",
          "data": {
            "text/plain": [
              "<Figure size 432x288 with 1 Axes>"
            ],
            "image/png": "[encoded data removed]"
          },
          "metadata": {
            "needs_background": "light"
          }
        },
        {
          "output_type": "stream",
          "name": "stdout",
          "text": [
            "['Highest Generation value is:96.46%. mean Generation is 82.04%. best exemple:']\n"
          ]
        },
        {
          "output_type": "display_data",
          "data": {
            "text/plain": [
              "<Figure size 432x288 with 1 Axes>"
            ],
            "image/png": "[encoded data removed]"
          },
          "metadata": {
            "needs_background": "light"
          }
        },
        {
          "output_type": "stream",
          "name": "stdout",
          "text": [
            "['Highest Generation value is:95.95%. mean Generation is 85.76%. best exemple:']\n"
          ]
        },
        {
          "output_type": "display_data",
          "data": {
            "text/plain": [
              "<Figure size 432x288 with 1 Axes>"
            ],
            "image/png": "[encoded data removed]"
          },
          "metadata": {
            "needs_background": "light"
          }
        },
        {
          "output_type": "stream",
          "name": "stdout",
          "text": [
            "['Highest Generation value is:96.05%. mean Generation is 84.95%. best exemple:']\n"
          ]
        },
        {
          "output_type": "display_data",
          "data": {
            "text/plain": [
              "<Figure size 432x288 with 1 Axes>"
            ],
            "image/png": "[encoded data removed]"
          },
          "metadata": {
            "needs_background": "light"
          }
        },
        {
          "output_type": "stream",
          "name": "stdout",
          "text": [
            "['Highest Generation value is:96.05%. mean Generation is 82.68%. best exemple:']\n"
          ]
        },
        {
          "output_type": "display_data",
          "data": {
            "text/plain": [
              "<Figure size 432x288 with 1 Axes>"
            ],
            "image/png": "[encoded data removed]"
          },
          "metadata": {
            "needs_background": "light"
          }
        },
        {
          "output_type": "stream",
          "name": "stdout",
          "text": [
            "['Highest Generation value is:95.85%. mean Generation is 84.68%. best exemple:']\n"
          ]
        },
        {
          "output_type": "display_data",
          "data": {
            "text/plain": [
              "<Figure size 432x288 with 1 Axes>"
            ],
            "image/png": "[encoded data removed]"
          },
          "metadata": {
            "needs_background": "light"
          }
        },
        {
          "output_type": "stream",
          "name": "stdout",
          "text": [
            "['Highest Generation value is:95.55%. mean Generation is 86.76%. best exemple:']\n"
          ]
        },
        {
          "output_type": "display_data",
          "data": {
            "text/plain": [
              "<Figure size 432x288 with 1 Axes>"
            ],
            "image/png": "[encoded data removed]"
          },
          "metadata": {
            "needs_background": "light"
          }
        },
        {
          "output_type": "stream",
          "name": "stdout",
          "text": [
            "['Highest Generation value is:96.15%. mean Generation is 84.53%. best exemple:']\n"
          ]
        },
        {
          "output_type": "display_data",
          "data": {
            "text/plain": [
              "<Figure size 432x288 with 1 Axes>"
            ],
            "image/png": "[encoded data removed]"
          },
          "metadata": {
            "needs_background": "light"
          }
        },
        {
          "output_type": "stream",
          "name": "stdout",
          "text": [
            "['Highest Generation value is:95.95%. mean Generation is 84.94%. best exemple:']\n"
          ]
        },
        {
          "output_type": "display_data",
          "data": {
            "text/plain": [
              "<Figure size 432x288 with 1 Axes>"
            ],
            "image/png": "[encoded data removed]"
          },
          "metadata": {
            "needs_background": "light"
          }
        },
        {
          "output_type": "stream",
          "name": "stdout",
          "text": [
            "['Highest Generation value is:95.75%. mean Generation is 84.15%. best exemple:']\n"
          ]
        },
        {
          "output_type": "display_data",
          "data": {
            "text/plain": [
              "<Figure size 432x288 with 1 Axes>"
            ],
            "image/png": "[encoded data removed]"
          },
          "metadata": {
            "needs_background": "light"
          }
        },
        {
          "output_type": "stream",
          "name": "stdout",
          "text": [
            "['Highest Generation value is:95.95%. mean Generation is 84.04%. best exemple:']\n"
          ]
        },
        {
          "output_type": "display_data",
          "data": {
            "text/plain": [
              "<Figure size 432x288 with 1 Axes>"
            ],
            "image/png": "[encoded data removed]"
          },
          "metadata": {
            "needs_background": "light"
          }
        },
        {
          "output_type": "stream",
          "name": "stdout",
          "text": [
            "['Highest Generation value is:95.55%. mean Generation is 86.25%. best exemple:']\n"
          ]
        },
        {
          "output_type": "display_data",
          "data": {
            "text/plain": [
              "<Figure size 432x288 with 1 Axes>"
            ],
            "image/png": "[encoded data removed]"
          },
          "metadata": {
            "needs_background": "light"
          }
        },
        {
          "output_type": "stream",
          "name": "stdout",
          "text": [
            "['Highest Generation value is:95.45%. mean Generation is 80.25%. best exemple:']\n"
          ]
        },
        {
          "output_type": "display_data",
          "data": {
            "text/plain": [
              "<Figure size 432x288 with 1 Axes>"
            ],
            "image/png": "[encoded data removed]"
          },
          "metadata": {
            "needs_background": "light"
          }
        },
        {
          "output_type": "stream",
          "name": "stdout",
          "text": [
            "['Highest Generation value is:95.45%. mean Generation is 85.37%. best exemple:']\n"
          ]
        },
        {
          "output_type": "display_data",
          "data": {
            "text/plain": [
              "<Figure size 432x288 with 1 Axes>"
            ],
            "image/png": "[encoded data removed]"
          },
          "metadata": {
            "needs_background": "light"
          }
        },
        {
          "output_type": "stream",
          "name": "stdout",
          "text": [
            "['Highest Generation value is:95.45%. mean Generation is 87.03%. best exemple:']\n"
          ]
        },
        {
          "output_type": "display_data",
          "data": {
            "text/plain": [
              "<Figure size 432x288 with 1 Axes>"
            ],
            "image/png": "[encoded data removed]"
          },
          "metadata": {
            "needs_background": "light"
          }
        },
        {
          "output_type": "stream",
          "name": "stdout",
          "text": [
            "['Highest Generation value is:95.65%. mean Generation is 83.29%. best exemple:']\n"
          ]
        },
        {
          "output_type": "display_data",
          "data": {
            "text/plain": [
              "<Figure size 432x288 with 1 Axes>"
            ],
            "image/png": "[encoded data removed]"
          },
          "metadata": {
            "needs_background": "light"
          }
        },
        {
          "output_type": "stream",
          "name": "stdout",
          "text": [
            "['Highest Generation value is:95.65%. mean Generation is 85.35%. best exemple:']\n"
          ]
        },
        {
          "output_type": "display_data",
          "data": {
            "text/plain": [
              "<Figure size 432x288 with 1 Axes>"
            ],
            "image/png": "[encoded data removed]"
          },
          "metadata": {
            "needs_background": "light"
          }
        },
        {
          "output_type": "stream",
          "name": "stdout",
          "text": [
            "['Highest Generation value is:95.85%. mean Generation is 85.65%. best exemple:']\n"
          ]
        },
        {
          "output_type": "display_data",
          "data": {
            "text/plain": [
              "<Figure size 432x288 with 1 Axes>"
            ],
            "image/png": "[encoded data removed]"
          },
          "metadata": {
            "needs_background": "light"
          }
        },
        {
          "output_type": "stream",
          "name": "stdout",
          "text": [
            "['Highest Generation value is:95.65%. mean Generation is 89.5%. best exemple:']\n"
          ]
        },
        {
          "output_type": "display_data",
          "data": {
            "text/plain": [
              "<Figure size 432x288 with 1 Axes>"
            ],
            "image/png": "[encoded data removed]"
          },
          "metadata": {
            "needs_background": "light"
          }
        },
        {
          "output_type": "stream",
          "name": "stdout",
          "text": [
            "['Highest Generation value is:95.65%. mean Generation is 89.87%. best exemple:']\n"
          ]
        },
        {
          "output_type": "display_data",
          "data": {
            "text/plain": [
              "<Figure size 432x288 with 1 Axes>"
            ],
            "image/png": "[encoded data removed]"
          },
          "metadata": {
            "needs_background": "light"
          }
        },
        {
          "output_type": "stream",
          "name": "stdout",
          "text": [
            "['Highest Generation value is:95.75%. mean Generation is 85.7%. best exemple:']\n"
          ]
        },
        {
          "output_type": "display_data",
          "data": {
            "text/plain": [
              "<Figure size 432x288 with 1 Axes>"
            ],
            "image/png": "[encoded data removed]"
          },
          "metadata": {
            "needs_background": "light"
          }
        },
        {
          "output_type": "stream",
          "name": "stdout",
          "text": [
            "['Highest Generation value is:95.45%. mean Generation is 84.54%. best exemple:']\n"
          ]
        },
        {
          "output_type": "display_data",
          "data": {
            "text/plain": [
              "<Figure size 432x288 with 1 Axes>"
            ],
            "image/png": "[encoded data removed]"
          },
          "metadata": {
            "needs_background": "light"
          }
        },
        {
          "output_type": "stream",
          "name": "stdout",
          "text": [
            "['Highest Generation value is:96.56%. mean Generation is 87.39%. best exemple:']\n"
          ]
        },
        {
          "output_type": "display_data",
          "data": {
            "text/plain": [
              "<Figure size 432x288 with 1 Axes>"
            ],
            "image/png": "[encoded data removed]"
          },
          "metadata": {
            "needs_background": "light"
          }
        },
        {
          "output_type": "stream",
          "name": "stdout",
          "text": [
            "['Highest Generation value is:96.05%. mean Generation is 83.66%. best exemple:']\n"
          ]
        },
        {
          "output_type": "display_data",
          "data": {
            "text/plain": [
              "<Figure size 432x288 with 1 Axes>"
            ],
            "image/png": "[encoded data removed]"
          },
          "metadata": {
            "needs_background": "light"
          }
        },
        {
          "output_type": "stream",
          "name": "stdout",
          "text": [
            "['Highest Generation value is:96.56%. mean Generation is 81.36%. best exemple:']\n"
          ]
        },
        {
          "output_type": "display_data",
          "data": {
            "text/plain": [
              "<Figure size 432x288 with 1 Axes>"
            ],
            "image/png": "[encoded data removed]"
          },
          "metadata": {
            "needs_background": "light"
          }
        },
        {
          "output_type": "stream",
          "name": "stdout",
          "text": [
            "['Highest Generation value is:96.25%. mean Generation is 84.25%. best exemple:']\n"
          ]
        },
        {
          "output_type": "display_data",
          "data": {
            "text/plain": [
              "<Figure size 432x288 with 1 Axes>"
            ],
            "image/png": "[encoded data removed]"
          },
          "metadata": {
            "needs_background": "light"
          }
        },
        {
          "output_type": "stream",
          "name": "stdout",
          "text": [
            "['Highest Generation value is:96.56%. mean Generation is 80.2%. best exemple:']\n"
          ]
        },
        {
          "output_type": "display_data",
          "data": {
            "text/plain": [
              "<Figure size 432x288 with 1 Axes>"
            ],
            "image/png": "[encoded data removed]"
          },
          "metadata": {
            "needs_background": "light"
          }
        },
        {
          "output_type": "stream",
          "name": "stdout",
          "text": [
            "['Highest Generation value is:96.66%. mean Generation is 79.77%. best exemple:']\n"
          ]
        },
        {
          "output_type": "display_data",
          "data": {
            "text/plain": [
              "<Figure size 432x288 with 1 Axes>"
            ],
            "image/png": "[encoded data removed]"
          },
          "metadata": {
            "needs_background": "light"
          }
        },
        {
          "output_type": "stream",
          "name": "stdout",
          "text": [
            "['Highest Generation value is:96.25%. mean Generation is 80.52%. best exemple:']\n"
          ]
        },
        {
          "output_type": "display_data",
          "data": {
            "text/plain": [
              "<Figure size 432x288 with 1 Axes>"
            ],
            "image/png": "[encoded data removed]"
          },
          "metadata": {
            "needs_background": "light"
          }
        },
        {
          "output_type": "stream",
          "name": "stdout",
          "text": [
            "['Highest Generation value is:96.25%. mean Generation is 82.69%. best exemple:']\n"
          ]
        },
        {
          "output_type": "display_data",
          "data": {
            "text/plain": [
              "<Figure size 432x288 with 1 Axes>"
            ],
            "image/png": "[encoded data removed]"
          },
          "metadata": {
            "needs_background": "light"
          }
        },
        {
          "output_type": "stream",
          "name": "stdout",
          "text": [
            "['Highest Generation value is:96.25%. mean Generation is 85.88%. best exemple:']\n"
          ]
        },
        {
          "output_type": "display_data",
          "data": {
            "text/plain": [
              "<Figure size 432x288 with 1 Axes>"
            ],
            "image/png": "[encoded data removed]"
          },
          "metadata": {
            "needs_background": "light"
          }
        },
        {
          "output_type": "stream",
          "name": "stdout",
          "text": [
            "['Highest Generation value is:96.25%. mean Generation is 85.15%. best exemple:']\n"
          ]
        },
        {
          "output_type": "display_data",
          "data": {
            "text/plain": [
              "<Figure size 432x288 with 1 Axes>"
            ],
            "image/png": "[encoded data removed]"
          },
          "metadata": {
            "needs_background": "light"
          }
        },
        {
          "output_type": "stream",
          "name": "stdout",
          "text": [
            "['Highest Generation value is:96.46%. mean Generation is 81.9%. best exemple:']\n"
          ]
        },
        {
          "output_type": "display_data",
          "data": {
            "text/plain": [
              "<Figure size 432x288 with 1 Axes>"
            ],
            "image/png": "[encoded data removed]"
          },
          "metadata": {
            "needs_background": "light"
          }
        },
        {
          "output_type": "stream",
          "name": "stdout",
          "text": [
            "['Highest Generation value is:96.56%. mean Generation is 83.72%. best exemple:']\n"
          ]
        },
        {
          "output_type": "display_data",
          "data": {
            "text/plain": [
              "<Figure size 432x288 with 1 Axes>"
            ],
            "image/png": "[encoded data removed]"
          },
          "metadata": {
            "needs_background": "light"
          }
        },
        {
          "output_type": "stream",
          "name": "stdout",
          "text": [
            "['Highest Generation value is:96.46%. mean Generation is 80.67%. best exemple:']\n"
          ]
        },
        {
          "output_type": "display_data",
          "data": {
            "text/plain": [
              "<Figure size 432x288 with 1 Axes>"
            ],
            "image/png": "[encoded data removed]"
          },
          "metadata": {
            "needs_background": "light"
          }
        },
        {
          "output_type": "stream",
          "name": "stdout",
          "text": [
            "['Highest Generation value is:96.46%. mean Generation is 82.25%. best exemple:']\n"
          ]
        },
        {
          "output_type": "display_data",
          "data": {
            "text/plain": [
              "<Figure size 432x288 with 1 Axes>"
            ],
            "image/png": "[encoded data removed]"
          },
          "metadata": {
            "needs_background": "light"
          }
        },
        {
          "output_type": "stream",
          "name": "stdout",
          "text": [
            "['Highest Generation value is:96.56%. mean Generation is 80.29%. best exemple:']\n"
          ]
        },
        {
          "output_type": "display_data",
          "data": {
            "text/plain": [
              "<Figure size 432x288 with 1 Axes>"
            ],
            "image/png": "[encoded data removed]"
          },
          "metadata": {
            "needs_background": "light"
          }
        },
        {
          "output_type": "stream",
          "name": "stdout",
          "text": [
            "['Highest Generation value is:96.56%. mean Generation is 79.38%. best exemple:']\n"
          ]
        },
        {
          "output_type": "display_data",
          "data": {
            "text/plain": [
              "<Figure size 432x288 with 1 Axes>"
            ],
            "image/png": "[encoded data removed]"
          },
          "metadata": {
            "needs_background": "light"
          }
        },
        {
          "output_type": "stream",
          "name": "stdout",
          "text": [
            "['Highest Generation value is:96.76%. mean Generation is 81.17%. best exemple:']\n"
          ]
        },
        {
          "output_type": "display_data",
          "data": {
            "text/plain": [
              "<Figure size 432x288 with 1 Axes>"
            ],
            "image/png": "[encoded data removed]"
          },
          "metadata": {
            "needs_background": "light"
          }
        },
        {
          "output_type": "stream",
          "name": "stdout",
          "text": [
            "['Highest Generation value is:96.76%. mean Generation is 80.66%. best exemple:']\n"
          ]
        },
        {
          "output_type": "display_data",
          "data": {
            "text/plain": [
              "<Figure size 432x288 with 1 Axes>"
            ],
            "image/png": "[encoded data removed]"
          },
          "metadata": {
            "needs_background": "light"
          }
        },
        {
          "output_type": "stream",
          "name": "stdout",
          "text": [
            "['Highest Generation value is:96.76%. mean Generation is 80.89%. best exemple:']\n"
          ]
        },
        {
          "output_type": "display_data",
          "data": {
            "text/plain": [
              "<Figure size 432x288 with 1 Axes>"
            ],
            "image/png": "[encoded data removed]"
          },
          "metadata": {
            "needs_background": "light"
          }
        },
        {
          "output_type": "stream",
          "name": "stdout",
          "text": [
            "['Highest Generation value is:96.76%. mean Generation is 80.34%. best exemple:']\n"
          ]
        },
        {
          "output_type": "display_data",
          "data": {
            "text/plain": [
              "<Figure size 432x288 with 1 Axes>"
            ],
            "image/png": "[encoded data removed]"
          },
          "metadata": {
            "needs_background": "light"
          }
        },
        {
          "output_type": "stream",
          "name": "stdout",
          "text": [
            "['Highest Generation value is:96.76%. mean Generation is 84.39%. best exemple:']\n"
          ]
        },
        {
          "output_type": "display_data",
          "data": {
            "text/plain": [
              "<Figure size 432x288 with 1 Axes>"
            ],
            "image/png": "[encoded data removed]"
          },
          "metadata": {
            "needs_background": "light"
          }
        },
        {
          "output_type": "stream",
          "name": "stdout",
          "text": [
            "['Highest Generation value is:96.76%. mean Generation is 84.75%. best exemple:']\n"
          ]
        },
        {
          "output_type": "display_data",
          "data": {
            "text/plain": [
              "<Figure size 432x288 with 1 Axes>"
            ],
            "image/png": "[encoded data removed]"
          },
          "metadata": {
            "needs_background": "light"
          }
        },
        {
          "output_type": "stream",
          "name": "stdout",
          "text": [
            "['Highest Generation value is:97.37%. mean Generation is 87.35%. best exemple:']\n"
          ]
        },
        {
          "output_type": "display_data",
          "data": {
            "text/plain": [
              "<Figure size 432x288 with 1 Axes>"
            ],
            "image/png": "[encoded data removed]"
          },
          "metadata": {
            "needs_background": "light"
          }
        },
        {
          "output_type": "stream",
          "name": "stdout",
          "text": [
            "['Highest Generation value is:97.37%. mean Generation is 80.3%. best exemple:']\n"
          ]
        },
        {
          "output_type": "display_data",
          "data": {
            "text/plain": [
              "<Figure size 432x288 with 1 Axes>"
            ],
            "image/png": "[encoded data removed]"
          },
          "metadata": {
            "needs_background": "light"
          }
        },
        {
          "output_type": "stream",
          "name": "stdout",
          "text": [
            "['Highest Generation value is:96.96%. mean Generation is 83.34%. best exemple:']\n"
          ]
        },
        {
          "output_type": "display_data",
          "data": {
            "text/plain": [
              "<Figure size 432x288 with 1 Axes>"
            ],
            "image/png": "[encoded data removed]"
          },
          "metadata": {
            "needs_background": "light"
          }
        },
        {
          "output_type": "stream",
          "name": "stdout",
          "text": [
            "['Highest Generation value is:97.37%. mean Generation is 87.23%. best exemple:']\n"
          ]
        },
        {
          "output_type": "display_data",
          "data": {
            "text/plain": [
              "<Figure size 432x288 with 1 Axes>"
            ],
            "image/png": "[encoded data removed]"
          },
          "metadata": {
            "needs_background": "light"
          }
        },
        {
          "output_type": "stream",
          "name": "stdout",
          "text": [
            "['Highest Generation value is:97.37%. mean Generation is 86.96%. best exemple:']\n"
          ]
        },
        {
          "output_type": "display_data",
          "data": {
            "text/plain": [
              "<Figure size 432x288 with 1 Axes>"
            ],
            "image/png": "[encoded data removed]"
          },
          "metadata": {
            "needs_background": "light"
          }
        },
        {
          "output_type": "stream",
          "name": "stdout",
          "text": [
            "['Highest Generation value is:97.87%. mean Generation is 80.5%. best exemple:']\n"
          ]
        },
        {
          "output_type": "display_data",
          "data": {
            "text/plain": [
              "<Figure size 432x288 with 1 Axes>"
            ],
            "image/png": "[encoded data removed]"
          },
          "metadata": {
            "needs_background": "light"
          }
        },
        {
          "output_type": "stream",
          "name": "stdout",
          "text": [
            "['Highest Generation value is:97.87%. mean Generation is 81.43%. best exemple:']\n"
          ]
        },
        {
          "output_type": "display_data",
          "data": {
            "text/plain": [
              "<Figure size 432x288 with 1 Axes>"
            ],
            "image/png": "[encoded data removed]"
          },
          "metadata": {
            "needs_background": "light"
          }
        },
        {
          "output_type": "stream",
          "name": "stdout",
          "text": [
            "['Highest Generation value is:97.87%. mean Generation is 77.64%. best exemple:']\n"
          ]
        },
        {
          "output_type": "display_data",
          "data": {
            "text/plain": [
              "<Figure size 432x288 with 1 Axes>"
            ],
            "image/png": "[encoded data removed]"
          },
          "metadata": {
            "needs_background": "light"
          }
        },
        {
          "output_type": "stream",
          "name": "stdout",
          "text": [
            "['Highest Generation value is:97.57%. mean Generation is 81.36%. best exemple:']\n"
          ]
        },
        {
          "output_type": "display_data",
          "data": {
            "text/plain": [
              "<Figure size 432x288 with 1 Axes>"
            ],
            "image/png": "[encoded data removed]"
          },
          "metadata": {
            "needs_background": "light"
          }
        },
        {
          "output_type": "stream",
          "name": "stdout",
          "text": [
            "['Highest Generation value is:96.86%. mean Generation is 83.27%. best exemple:']\n"
          ]
        },
        {
          "output_type": "display_data",
          "data": {
            "text/plain": [
              "<Figure size 432x288 with 1 Axes>"
            ],
            "image/png": "[encoded data removed]"
          },
          "metadata": {
            "needs_background": "light"
          }
        },
        {
          "output_type": "stream",
          "name": "stdout",
          "text": [
            "['Highest Generation value is:97.17%. mean Generation is 84.69%. best exemple:']\n"
          ]
        },
        {
          "output_type": "display_data",
          "data": {
            "text/plain": [
              "<Figure size 432x288 with 1 Axes>"
            ],
            "image/png": "[encoded data removed]"
          },
          "metadata": {
            "needs_background": "light"
          }
        },
        {
          "output_type": "stream",
          "name": "stdout",
          "text": [
            "['Highest Generation value is:97.17%. mean Generation is 86.22%. best exemple:']\n"
          ]
        },
        {
          "output_type": "display_data",
          "data": {
            "text/plain": [
              "<Figure size 432x288 with 1 Axes>"
            ],
            "image/png": "[encoded data removed]"
          },
          "metadata": {
            "needs_background": "light"
          }
        },
        {
          "output_type": "stream",
          "name": "stdout",
          "text": [
            "['Highest Generation value is:97.47%. mean Generation is 82.43%. best exemple:']\n"
          ]
        },
        {
          "output_type": "display_data",
          "data": {
            "text/plain": [
              "<Figure size 432x288 with 1 Axes>"
            ],
            "image/png": "[encoded data removed]"
          },
          "metadata": {
            "needs_background": "light"
          }
        },
        {
          "output_type": "stream",
          "name": "stdout",
          "text": [
            "['Highest Generation value is:97.17%. mean Generation is 86.71%. best exemple:']\n"
          ]
        },
        {
          "output_type": "display_data",
          "data": {
            "text/plain": [
              "<Figure size 432x288 with 1 Axes>"
            ],
            "image/png": "[encoded data removed]"
          },
          "metadata": {
            "needs_background": "light"
          }
        },
        {
          "output_type": "stream",
          "name": "stdout",
          "text": [
            "['Highest Generation value is:97.36%. mean Generation is 87.04%. best exemple:']\n"
          ]
        },
        {
          "output_type": "display_data",
          "data": {
            "text/plain": [
              "<Figure size 432x288 with 1 Axes>"
            ],
            "image/png": "[encoded data removed]"
          },
          "metadata": {
            "needs_background": "light"
          }
        },
        {
          "output_type": "stream",
          "name": "stdout",
          "text": [
            "['Highest Generation value is:98.08%. mean Generation is 87.39%. best exemple:']\n"
          ]
        },
        {
          "output_type": "display_data",
          "data": {
            "text/plain": [
              "<Figure size 432x288 with 1 Axes>"
            ],
            "image/png": "[encoded data removed]"
          },
          "metadata": {
            "needs_background": "light"
          }
        },
        {
          "output_type": "stream",
          "name": "stdout",
          "text": [
            "['Highest Generation value is:98.08%. mean Generation is 89.25%. best exemple:']\n"
          ]
        },
        {
          "output_type": "display_data",
          "data": {
            "text/plain": [
              "<Figure size 432x288 with 1 Axes>"
            ],
            "image/png": "[encoded data removed]"
          },
          "metadata": {
            "needs_background": "light"
          }
        },
        {
          "output_type": "stream",
          "name": "stdout",
          "text": [
            "['Highest Generation value is:98.08%. mean Generation is 86.36%. best exemple:']\n"
          ]
        },
        {
          "output_type": "display_data",
          "data": {
            "text/plain": [
              "<Figure size 432x288 with 1 Axes>"
            ],
            "image/png": "[encoded data removed]"
          },
          "metadata": {
            "needs_background": "light"
          }
        },
        {
          "output_type": "stream",
          "name": "stdout",
          "text": [
            "['Highest Generation value is:98.08%. mean Generation is 86.79%. best exemple:']\n"
          ]
        },
        {
          "output_type": "display_data",
          "data": {
            "text/plain": [
              "<Figure size 432x288 with 1 Axes>"
            ],
            "image/png": "[encoded data removed]"
          },
          "metadata": {
            "needs_background": "light"
          }
        },
        {
          "output_type": "stream",
          "name": "stdout",
          "text": [
            "['Highest Generation value is:98.08%. mean Generation is 84.4%. best exemple:']\n"
          ]
        },
        {
          "output_type": "display_data",
          "data": {
            "text/plain": [
              "<Figure size 432x288 with 1 Axes>"
            ],
            "image/png": "[encoded data removed]"
          },
          "metadata": {
            "needs_background": "light"
          }
        },
        {
          "output_type": "stream",
          "name": "stdout",
          "text": [
            "['Highest Generation value is:97.68%. mean Generation is 82.22%. best exemple:']\n"
          ]
        },
        {
          "output_type": "display_data",
          "data": {
            "text/plain": [
              "<Figure size 432x288 with 1 Axes>"
            ],
            "image/png": "[encoded data removed]"
          },
          "metadata": {
            "needs_background": "light"
          }
        },
        {
          "output_type": "stream",
          "name": "stdout",
          "text": [
            "['Highest Generation value is:98.48%. mean Generation is 85.42%. best exemple:']\n"
          ]
        },
        {
          "output_type": "display_data",
          "data": {
            "text/plain": [
              "<Figure size 432x288 with 1 Axes>"
            ],
            "image/png": "[encoded data removed]"
          },
          "metadata": {
            "needs_background": "light"
          }
        },
        {
          "output_type": "stream",
          "name": "stdout",
          "text": [
            "['Highest Generation value is:98.48%. mean Generation is 88.29%. best exemple:']\n"
          ]
        },
        {
          "output_type": "display_data",
          "data": {
            "text/plain": [
              "<Figure size 432x288 with 1 Axes>"
            ],
            "image/png": "[encoded data removed]"
          },
          "metadata": {
            "needs_background": "light"
          }
        },
        {
          "output_type": "stream",
          "name": "stdout",
          "text": [
            "['Highest Generation value is:98.48%. mean Generation is 88.94%. best exemple:']\n"
          ]
        },
        {
          "output_type": "display_data",
          "data": {
            "text/plain": [
              "<Figure size 432x288 with 1 Axes>"
            ],
            "image/png": "[encoded data removed]"
          },
          "metadata": {
            "needs_background": "light"
          }
        },
        {
          "output_type": "stream",
          "name": "stdout",
          "text": [
            "['Highest Generation value is:99.29%. mean Generation is 85.01%. best exemple:']\n"
          ]
        },
        {
          "output_type": "display_data",
          "data": {
            "text/plain": [
              "<Figure size 432x288 with 1 Axes>"
            ],
            "image/png": "[encoded data removed]"
          },
          "metadata": {
            "needs_background": "light"
          }
        },
        {
          "output_type": "stream",
          "name": "stdout",
          "text": [
            "['Highest Generation value is:99.29%. mean Generation is 83.63%. best exemple:']\n"
          ]
        },
        {
          "output_type": "display_data",
          "data": {
            "text/plain": [
              "<Figure size 432x288 with 1 Axes>"
            ],
            "image/png": "[encoded data removed]"
          },
          "metadata": {
            "needs_background": "light"
          }
        },
        {
          "output_type": "stream",
          "name": "stdout",
          "text": [
            "['Highest Generation value is:98.79%. mean Generation is 82.91%. best exemple:']\n"
          ]
        },
        {
          "output_type": "display_data",
          "data": {
            "text/plain": [
              "<Figure size 432x288 with 1 Axes>"
            ],
            "image/png": "[encoded data removed]"
          },
          "metadata": {
            "needs_background": "light"
          }
        },
        {
          "output_type": "stream",
          "name": "stdout",
          "text": [
            "['Highest Generation value is:99.29%. mean Generation is 84.45%. best exemple:']\n"
          ]
        },
        {
          "output_type": "display_data",
          "data": {
            "text/plain": [
              "<Figure size 432x288 with 1 Axes>"
            ],
            "image/png": "[encoded data removed]"
          },
          "metadata": {
            "needs_background": "light"
          }
        },
        {
          "output_type": "stream",
          "name": "stdout",
          "text": [
            "['Highest Generation value is:99.29%. mean Generation is 86.33%. best exemple:']\n"
          ]
        },
        {
          "output_type": "display_data",
          "data": {
            "text/plain": [
              "<Figure size 432x288 with 1 Axes>"
            ],
            "image/png": "[encoded data removed]"
          },
          "metadata": {
            "needs_background": "light"
          }
        },
        {
          "output_type": "stream",
          "name": "stdout",
          "text": [
            "['Highest Generation value is:99.29%. mean Generation is 88.94%. best exemple:']\n"
          ]
        },
        {
          "output_type": "display_data",
          "data": {
            "text/plain": [
              "<Figure size 432x288 with 1 Axes>"
            ],
            "image/png": "[encoded data removed]"
          },
          "metadata": {
            "needs_background": "light"
          }
        },
        {
          "output_type": "stream",
          "name": "stdout",
          "text": [
            "['Highest Generation value is:99.29%. mean Generation is 88.03%. best exemple:']\n"
          ]
        },
        {
          "output_type": "display_data",
          "data": {
            "text/plain": [
              "<Figure size 432x288 with 1 Axes>"
            ],
            "image/png": "[encoded data removed]"
          },
          "metadata": {
            "needs_background": "light"
          }
        },
        {
          "output_type": "stream",
          "name": "stdout",
          "text": [
            "['Highest Generation value is:99.39%. mean Generation is 85.35%. best exemple:']\n"
          ]
        },
        {
          "output_type": "display_data",
          "data": {
            "text/plain": [
              "<Figure size 432x288 with 1 Axes>"
            ],
            "image/png": "[encoded data removed]"
          },
          "metadata": {
            "needs_background": "light"
          }
        },
        {
          "output_type": "stream",
          "name": "stdout",
          "text": [
            "['Highest Generation value is:99.39%. mean Generation is 91.49%. best exemple:']\n"
          ]
        },
        {
          "output_type": "display_data",
          "data": {
            "text/plain": [
              "<Figure size 432x288 with 1 Axes>"
            ],
            "image/png": "[encoded data removed]"
          },
          "metadata": {
            "needs_background": "light"
          }
        },
        {
          "output_type": "stream",
          "name": "stdout",
          "text": [
            "['Highest Generation value is:99.29%. mean Generation is 89.83%. best exemple:']\n"
          ]
        },
        {
          "output_type": "display_data",
          "data": {
            "text/plain": [
              "<Figure size 432x288 with 1 Axes>"
            ],
            "image/png": "[encoded data removed]"
          },
          "metadata": {
            "needs_background": "light"
          }
        },
        {
          "output_type": "stream",
          "name": "stdout",
          "text": [
            "['Highest Generation value is:99.39%. mean Generation is 88.51%. best exemple:']\n"
          ]
        },
        {
          "output_type": "display_data",
          "data": {
            "text/plain": [
              "<Figure size 432x288 with 1 Axes>"
            ],
            "image/png": "[encoded data removed]"
          },
          "metadata": {
            "needs_background": "light"
          }
        },
        {
          "output_type": "stream",
          "name": "stdout",
          "text": [
            "['Highest Generation value is:100.0%. mean Generation is 88.74%. best exemple:']\n"
          ]
        },
        {
          "output_type": "display_data",
          "data": {
            "text/plain": [
              "<Figure size 432x288 with 1 Axes>"
            ],
            "image/png": "[encoded data removed]"
          },
          "metadata": {
            "needs_background": "light"
          }
        },
        {
          "output_type": "stream",
          "name": "stdout",
          "text": [
            "['Highest Generation value is:100.0%. mean Generation is 88.74%. best exemple:']\n"
          ]
        },
        {
          "output_type": "display_data",
          "data": {
            "text/plain": [
              "<Figure size 432x288 with 1 Axes>"
            ],
            "image/png": "[encoded data removed]"
          },
          "metadata": {
            "needs_background": "light"
          }
        },
        {
          "output_type": "display_data",
          "data": {
            "text/plain": [
              "<Figure size 432x288 with 1 Axes>"
            ],
            "image/png": "[encoded data removed]"
          },
          "metadata": {
            "needs_background": "light"
          }
        }
      ]
    }
  ]
}